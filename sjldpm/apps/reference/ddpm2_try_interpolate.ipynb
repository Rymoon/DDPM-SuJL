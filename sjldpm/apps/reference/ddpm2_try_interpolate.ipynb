{
 "cells": [
  {
   "cell_type": "code",
   "execution_count": null,
   "metadata": {},
   "outputs": [],
   "source": [
    "import os\n",
    "gpuid = \"1\"\n",
    "os.environ[\"CUDA_VISIBLE_DEVICES\"] = f\"{gpuid}\"\n",
    "train_name = \"ddpm2_2img\""
   ]
  },
  {
   "cell_type": "code",
   "execution_count": null,
   "metadata": {},
   "outputs": [],
   "source": [
    "\n",
    "save_root = \"/home/yumeng/workspace/DDPM-SuJL/Results/load_pretrained/try_interpolate\""
   ]
  },
  {
   "cell_type": "code",
   "execution_count": null,
   "metadata": {},
   "outputs": [],
   "source": [
    "from ddpm2_2img import *\n",
    "\n",
    "model.load_weights(f\"{train_name}.ema.weights\")\n"
   ]
  },
  {
   "cell_type": "code",
   "execution_count": null,
   "metadata": {},
   "outputs": [],
   "source": [
    "sample_inter(f\"{train_name}_sample_inter.png\")"
   ]
  }
 ],
 "metadata": {
  "kernelspec": {
   "display_name": "Python 3.8.16 ('tf115_cu11')",
   "language": "python",
   "name": "python3"
  },
  "language_info": {
   "name": "python",
   "version": "3.8.16"
  },
  "orig_nbformat": 4,
  "vscode": {
   "interpreter": {
    "hash": "9bcc6cc82eb6533aaae6211f0ed3b8448d19a5b6dabff841d31bbc099e7605c6"
   }
  }
 },
 "nbformat": 4,
 "nbformat_minor": 2
}
