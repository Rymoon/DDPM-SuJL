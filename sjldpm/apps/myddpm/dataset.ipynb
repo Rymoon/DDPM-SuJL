{
 "cells": [
  {
   "cell_type": "code",
   "execution_count": 4,
   "metadata": {},
   "outputs": [],
   "source": [
    "import os \n",
    "from pathlib import Path\n",
    "from tqdm import tqdm\n",
    "import numpy as np\n",
    "import cv2\n",
    "\n",
    "from ren_utils.rennet import call_by_inspect \n",
    "import matplotlib.pyplot as plt\n",
    "\n",
    "import sjldpm as pkg"
   ]
  },
  {
   "cell_type": "code",
   "execution_count": 2,
   "metadata": {},
   "outputs": [],
   "source": [
    "def data_generator(dataset,*, batch_size, T, bar_alpha, bar_beta):\n",
    "    \"\"\"\n",
    "    `dataset`, allow:\n",
    "    * dataset[i] -> ndarray () \n",
    "    * len(dataset)-> int\n",
    "    \"\"\"\n",
    "    assert hasattr(dataset,\"__getitem__\")\n",
    "    assert hasattr(dataset,\"__len__\")\n",
    "    batch_imgs = []\n",
    "    while True:\n",
    "        for i in np.random.permutation(len(dataset)):\n",
    "            batch_imgs.append(dataset[i])\n",
    "            if len(batch_imgs) == batch_size:\n",
    "                batch_imgs = np.array(batch_imgs)\n",
    "                batch_steps = np.random.choice(T, batch_size)\n",
    "                batch_bar_alpha = bar_alpha[batch_steps][:, None, None, None]\n",
    "                batch_bar_beta = bar_beta[batch_steps][:, None, None, None]\n",
    "                batch_noise = np.random.randn(*batch_imgs.shape)\n",
    "                batch_noisy_imgs = batch_imgs * batch_bar_alpha + batch_noise * batch_bar_beta\n",
    "                yield [batch_noisy_imgs, batch_steps[:, None]], batch_noise\n",
    "                batch_imgs = []"
   ]
  },
  {
   "cell_type": "code",
   "execution_count": 3,
   "metadata": {},
   "outputs": [],
   "source": [
    "from sjldpm.apps.reference.ddpm2_h import imread,list_pictures\n",
    "from ren_utils import rennet\n",
    "class CelebAHQ:\n",
    "    def __init__(self,image_resize):\n",
    "        \"\"\"\n",
    "        image_resize: tuple(int,int)\n",
    "        \"\"\"\n",
    "        img_path_list = []\n",
    "        for _name in [\"CelebAHQ256\",\"CelebAHQ256_valid\"]:\n",
    "            img_path_list += list_pictures(rennet.datasets[_name][\"imgs\"],rennet.datasets[_name][\"suffix\"] )\n",
    "        np.random.shuffle(img_path_list)\n",
    "        self.img_path_list = img_path_list\n",
    "        \n",
    "        self.image_resize = image_resize\n",
    "    def __getitem__(self,i):\n",
    "        return imread( self.img_path_list[i], self.image_resize)\n",
    "    \n",
    "    def __len__(self):\n",
    "        return len(self.img_path_list)"
   ]
  },
  {
   "cell_type": "code",
   "execution_count": 15,
   "metadata": {},
   "outputs": [
    {
     "name": "stdout",
     "output_type": "stream",
     "text": [
      "(64, 64, 3) <class 'numpy.ndarray'> 0.827451 -0.99215686\n"
     ]
    }
   ],
   "source": [
    "celeb = CelebAHQ((64,64))\n",
    "img = celeb[0]\n",
    "print(img.shape, type(img),img.max(),img.min())"
   ]
  },
  {
   "cell_type": "code",
   "execution_count": 41,
   "metadata": {},
   "outputs": [],
   "source": [
    "import sjldpm\n",
    "import cv2\n",
    "class MNIST:\n",
    "    root_pkg = Path(sjldpm.__file__).parent\n",
    "    npz_path = Path(root_pkg,\"../Datasets/MNIST/mnist.npz\").as_posix()\n",
    "    def __init__(self,image_resize,digits=[0,1,2,3,4,5,6,7,8,9]):\n",
    "    \n",
    "        data_npz  = np.load(self.npz_path)\n",
    "        x_train = data_npz[\"x_train\"]\n",
    "        y_train = data_npz[\"y_train\"]\n",
    "        \n",
    "        index = []\n",
    "        for i in range(len(y_train)):\n",
    "            if y_train[i] in digits:\n",
    "                index.append(i)\n",
    "        \n",
    "        np.random.shuffle(index)\n",
    "        \n",
    "        x= (x_train/255)*2-1\n",
    "        x_= np.zeros((*image_resize,3,len(index)))\n",
    "        y_ = np.zeros(len(index))\n",
    "        for i in range(len(index)):\n",
    "            x_[:,:,0,i]= cv2.resize(x[index[i]],image_resize)\n",
    "            x_[:,:,1,i]= cv2.resize(x[index[i]],image_resize)\n",
    "            x_[:,:,2,i]= cv2.resize(x[index[i]],image_resize)\n",
    "            y_[i] = index[i]\n",
    "        self.x_ = x_\n",
    "        self.y_ = y_\n",
    "        self.index = index\n",
    "    def __len__(self):\n",
    "        return len(self.index)\n",
    "    \n",
    "    def __getitem__(self,i):\n",
    "        v = self.x_[:,:,:,i]\n",
    "        return v\n",
    "\n",
    "mnist = MNIST((32,32),digits=[0,2,4,6])"
   ]
  },
  {
   "cell_type": "code",
   "execution_count": 42,
   "metadata": {},
   "outputs": [
    {
     "name": "stderr",
     "output_type": "stream",
     "text": [
      "Clipping input data to the valid range for imshow with RGB data ([0..1] for floats or [0..255] for integers).\n"
     ]
    },
    {
     "name": "stdout",
     "output_type": "stream",
     "text": [
      "23641\n",
      "(32, 32, 3, 23641) 1.0 -1.0\n",
      "(32, 32, 3) -1.0 1.0\n"
     ]
    },
    {
     "data": {
      "image/png": "[encoded data removed]",
      "text/plain": [
       "<Figure size 640x480 with 1 Axes>"
      ]
     },
     "metadata": {},
     "output_type": "display_data"
    }
   ],
   "source": [
    "print(len(mnist.index))\n",
    "print(mnist.x_.shape, mnist.x_.max(),mnist.x_.min())\n",
    "img = mnist[0]\n",
    "print(img.shape,img.min(),img.max())\n",
    "plt.imshow(img)\n",
    "plt.show()"
   ]
  },
  {
   "cell_type": "code",
   "execution_count": 45,
   "metadata": {},
   "outputs": [
    {
     "name": "stdout",
     "output_type": "stream",
     "text": [
      "[0.1 0.2 0.3 0.4 0.5 0.6 0.7 0.8 0.9 1. ]\n"
     ]
    },
    {
     "data": {
      "text/plain": [
       "array([1.07177346, 1.14869835, 1.23114441, 1.31950791, 1.41421356,\n",
       "       1.51571657, 1.62450479, 1.74110113, 1.86606598, 2.        ])"
      ]
     },
     "execution_count": 45,
     "metadata": {},
     "output_type": "execute_result"
    }
   ],
   "source": [
    "T = 10\n",
    "a = np.arange(1,T+1)/T\n",
    "print(a)\n",
    "2 ** a"
   ]
  }
 ],
 "metadata": {
  "kernelspec": {
   "display_name": "tf115",
   "language": "python",
   "name": "python3"
  },
  "language_info": {
   "codemirror_mode": {
    "name": "ipython",
    "version": 3
   },
   "file_extension": ".py",
   "mimetype": "text/x-python",
   "name": "python",
   "nbconvert_exporter": "python",
   "pygments_lexer": "ipython3",
   "version": "3.8.19"
  }
 },
 "nbformat": 4,
 "nbformat_minor": 2
}
